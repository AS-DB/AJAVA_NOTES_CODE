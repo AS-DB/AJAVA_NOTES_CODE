{
 "cells": [
  {
   "cell_type": "markdown",
   "metadata": {},
   "source": [
    "Entity Class"
   ]
  },
  {
   "cell_type": "code",
   "execution_count": null,
   "metadata": {},
   "outputs": [],
   "source": [
    "@Entity\n",
    "@Table(name = \"student_data\")\n",
    "public class Student {\n",
    "    @Id\n",
    "    @GeneratedValue(strategy = GenerationType.IDENTITY)\n",
    "    private int id;\n",
    "\n",
    "    @Column(name = \"name\")\n",
    "    private String name;\n",
    "\n",
    "    @Column(name = \"course\")\n",
    "    private String course;\n",
    "}"
   ]
  },
  {
   "cell_type": "markdown",
   "metadata": {},
   "source": [
    "Primary Key Mapping"
   ]
  },
  {
   "cell_type": "code",
   "execution_count": null,
   "metadata": {},
   "outputs": [],
   "source": [
    "@Id\n",
    "@GeneratedValue(strategy = GenerationType.IDENTITY)\n",
    "private int id;"
   ]
  },
  {
   "cell_type": "markdown",
   "metadata": {},
   "source": [
    "Column Mapping"
   ]
  },
  {
   "cell_type": "code",
   "execution_count": null,
   "metadata": {},
   "outputs": [],
   "source": [
    "@Column(name = \"name\", nullable = false, length = 100)\n",
    "private String name;"
   ]
  },
  {
   "cell_type": "markdown",
   "metadata": {},
   "source": [
    "Relationship Mapping"
   ]
  },
  {
   "cell_type": "code",
   "execution_count": null,
   "metadata": {},
   "outputs": [],
   "source": [
    "@OneToMany(mappedBy = \"student\")\n",
    "private List<Course> courses;"
   ]
  },
  {
   "cell_type": "markdown",
   "metadata": {},
   "source": [
    "Lazy and Eager Fetching"
   ]
  },
  {
   "cell_type": "code",
   "execution_count": null,
   "metadata": {},
   "outputs": [],
   "source": [
    "@OneToMany(fetch = FetchType.LAZY)\n",
    "private List<Course> courses;"
   ]
  },
  {
   "cell_type": "markdown",
   "metadata": {},
   "source": [
    "Inheritance Mapping"
   ]
  },
  {
   "cell_type": "code",
   "execution_count": null,
   "metadata": {},
   "outputs": [],
   "source": [
    "@Entity\n",
    "@Inheritance(strategy = InheritanceType.SINGLE_TABLE)\n",
    "public class Animal {\n",
    "    @Id\n",
    "    private int id;\n",
    "    private String name;\n",
    "}\n",
    "\n",
    "@Entity\n",
    "public class Dog extends Animal {\n",
    "    private String breed;\n",
    "}"
   ]
  },
  {
   "cell_type": "markdown",
   "metadata": {},
   "source": [
    "Embeddable Objects"
   ]
  },
  {
   "cell_type": "code",
   "execution_count": null,
   "metadata": {},
   "outputs": [],
   "source": [
    "@Embeddable\n",
    "public class Address {\n",
    "    private String street;\n",
    "    private String city;\n",
    "    private String zipCode;\n",
    "}\n",
    "\n",
    "@Entity\n",
    "public class Student {\n",
    "    @Id\n",
    "    private int id;\n",
    "    private String name;\n",
    "\n",
    "    @Embedded\n",
    "    private Address address;\n",
    "}\n"
   ]
  }
 ],
 "metadata": {
  "language_info": {
   "name": "python"
  }
 },
 "nbformat": 4,
 "nbformat_minor": 2
}
