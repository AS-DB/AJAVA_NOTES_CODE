{
 "cells": [
  {
   "cell_type": "markdown",
   "metadata": {},
   "source": [
    "Select Query"
   ]
  },
  {
   "cell_type": "code",
   "execution_count": null,
   "metadata": {},
   "outputs": [],
   "source": [
    "String hql = \"FROM Student\"; //student is table\n",
    "Query<Student> query = session.createQuery(hql);\n",
    "List<Student> students = query.list();"
   ]
  },
  {
   "cell_type": "markdown",
   "metadata": {},
   "source": [
    "Select with Conditions (WHERE Clause)"
   ]
  },
  {
   "cell_type": "code",
   "execution_count": null,
   "metadata": {},
   "outputs": [],
   "source": [
    "String hql = \"FROM Student WHERE course = :courseName\";\n",
    "Query<Student> query = session.createQuery(hql);\n",
    "query.setParameter(\"courseName\", \"Computer Science\");\n",
    "List<Student> students = query.list();"
   ]
  },
  {
   "cell_type": "markdown",
   "metadata": {},
   "source": [
    "Ordering Results (ORDER BY)"
   ]
  },
  {
   "cell_type": "code",
   "execution_count": null,
   "metadata": {},
   "outputs": [],
   "source": [
    "String hql = \"FROM Student ORDER BY name ASC\";\n",
    "Query<Student> query = session.createQuery(hql);\n",
    "List<Student> students = query.list();"
   ]
  },
  {
   "cell_type": "markdown",
   "metadata": {},
   "source": [
    "SELECT Specific Column"
   ]
  },
  {
   "cell_type": "code",
   "execution_count": null,
   "metadata": {},
   "outputs": [],
   "source": [
    "String hql = \"SELECT name, course FROM Student\";\n",
    "Query<Object[]> query = session.createQuery(hql);\n",
    "List<Object[]> results = query.list();\n",
    "for (Object[] row : results) {\n",
    "    System.out.println(\"Name: \" + row[0] + \", Course: \" + row[1]);\n",
    "}"
   ]
  },
  {
   "cell_type": "markdown",
   "metadata": {},
   "source": [
    "Aggregate Functions"
   ]
  },
  {
   "cell_type": "code",
   "execution_count": null,
   "metadata": {},
   "outputs": [],
   "source": [
    "String hql = \"SELECT count(*) FROM Student\";\n",
    "Query<Long> query = session.createQuery(hql);\n",
    "Long count = query.uniqueResult();\n",
    "System.out.println(\"Total number of students: \" + count);"
   ]
  },
  {
   "cell_type": "markdown",
   "metadata": {},
   "source": [
    "BULK OPERATION"
   ]
  },
  {
   "cell_type": "code",
   "execution_count": null,
   "metadata": {},
   "outputs": [],
   "source": [
    "String hql = \"UPDATE Student SET course = :courseName WHERE course = :oldCourse\";\n",
    "Query query = session.createQuery(hql);\n",
    "query.setParameter(\"courseName\", \"Mathematics\");\n",
    "query.setParameter(\"oldCourse\", \"Physics\");\n",
    "int result = query.executeUpdate();\n",
    "System.out.println(result + \" students updated.\");"
   ]
  },
  {
   "cell_type": "markdown",
   "metadata": {},
   "source": [
    "Subqueries"
   ]
  },
  {
   "cell_type": "code",
   "execution_count": null,
   "metadata": {},
   "outputs": [],
   "source": [
    "String hql = \"FROM Student s WHERE s.id IN (SELECT c.student.id FROM Course c WHERE c.courseName = :courseName)\";\n",
    "Query<Student> query = session.createQuery(hql);\n",
    "query.setParameter(\"courseName\", \"Computer Science\");\n",
    "List<Student> students = query.list();"
   ]
  }
 ],
 "metadata": {
  "kernelspec": {
   "display_name": "Python 3",
   "language": "python",
   "name": "python3"
  },
  "language_info": {
   "name": "python",
   "version": "3.12.5"
  }
 },
 "nbformat": 4,
 "nbformat_minor": 2
}
